{
  "cells": [
    {
      "cell_type": "markdown",
      "metadata": {
        "id": "view-in-github",
        "colab_type": "text"
      },
      "source": [
        "<a href=\"https://colab.research.google.com/github/prachi-010/Average-using-function/blob/main/Pyrhon_Quiz.ipynb\" target=\"_parent\"><img src=\"https://colab.research.google.com/assets/colab-badge.svg\" alt=\"Open In Colab\"/></a>"
      ]
    },
    {
      "cell_type": "code",
      "execution_count": 10,
      "metadata": {
        "colab": {
          "base_uri": "https://localhost:8080/"
        },
        "id": "do4Ey4v1LuPm",
        "outputId": "e724502f-65db-4daa-8c04-acfcb29b202c"
      },
      "outputs": [
        {
          "output_type": "stream",
          "name": "stdout",
          "text": [
            "------PYTHON PROGRAMMING\n",
            "Who is the father of python ? .\n",
            "Sorry, Wrong answer ..... Try Again.\n",
            "Sorry, Wrong answer ..... Try Again.\n",
            "the correct answer is  guido van rossum\n",
            "keyword used to declare function ? .\n",
            "Sorry, Wrong answer ..... Try Againdef\n",
            "Hurray!!, correct answer\n",
            "Is Python case sensitive when dealing with identifiers ? yes\n",
            "Hurray!!, correct answer\n",
            "What is extension of a python file ? .py\n",
            "Hurray!!, correct answer\n",
            "What will be the value of the following Python expression ?\n",
            " 4+3%5 7\n",
            "Hurray!!, correct answer\n",
            "Which of the following in Python used to define a block of code ? identation\n",
            "Hurray!!, correct answer\n",
            "Which character is used to give single-line comments in Python ? #\n",
            "Hurray!!, correct answer\n",
            "Which functions can help us to find the version of python that we are currently working on ? sys.version\n",
            "Hurray!!, correct answer\n",
            "Python supports the creation of anonymous functions at runtime, using a construct called ? lambda\n",
            "Hurray!!, correct answer\n",
            "What does pip stand for python ? preferred installer program\n",
            "Sorry, Wrong answer ..... Try Againpreferred installer program\n",
            "Hurray!!, correct answer\n",
            "Your final score is 9\n"
          ]
        }
      ],
      "source": [
        "  #Project Quiz\n",
        "def guess_name(guess, answer):\n",
        "      \n",
        "      global score\n",
        "      still_guessing = True\n",
        "      attempt = 0\n",
        "      while still_guessing and attempt < 3:\n",
        "          if guess.lower() == answer.lower():\n",
        "              print(\"Hurray!!, correct answer\")\n",
        "              score = score + 1\n",
        "              still_guessing = False\n",
        "\n",
        "          else : \n",
        "              if attempt < 2:\n",
        "                  guess = input(\"Sorry, Wrong answer ..... Try Again\")\n",
        "          attempt = attempt + 1\n",
        "\n",
        "      if attempt == 3:\n",
        "         print(\"the correct answer is \", answer)     \n",
        "\n",
        "score = 0             \n",
        "\n",
        "print(\"------PYTHON PROGRAMMING\")\n",
        "guess_1= input(\"Who is the father of python ? \")\n",
        "guess_name(guess_1, \"guido van rossum\")\n",
        "\n",
        "guess_2 = input(\"keyword used to declare function ? \")\n",
        "guess_name(guess_2, \"def\")\n",
        "\n",
        "guess_3 = input(\"Is Python case sensitive when dealing with identifiers ? \")\n",
        "guess_name(guess_3, \"yes\")\n",
        "\n",
        "guess_4 = input(\"What is extension of a python file ? \")\n",
        "guess_name(guess_4, \".py\")\n",
        "\n",
        "guess_5 = input(\"What will be the value of the following Python expression ?\\n 4+3%5 \")\n",
        "guess_name(guess_5, \"7\")\n",
        "\n",
        "guess_6 = input(\"Which of the following in Python used to define a block of code ? \")\n",
        "guess_name(guess_6, \"identation\")\n",
        "\n",
        "guess_7 = input(\"Which character is used to give single-line comments in Python ? \")\n",
        "guess_name(guess_7, \"#\")\n",
        "\n",
        "guess_8 = input(\"Which functions can help us to find the version of python that we are currently working on ? \")\n",
        "guess_name(guess_8, \"sys.version\")\n",
        "\n",
        "guess_9 = input(\"Python supports the creation of anonymous functions at runtime, using a construct called ? \")\n",
        "guess_name(guess_9, \"lambda\")\n",
        "\n",
        "guess_10 = input(\"What does pip stand for python ? \")\n",
        "guess_name(guess_2, \"preferred installer program\")\n",
        "\n",
        "print(\"Your final score is \" + str(score))\n",
        "\n",
        "\n"
      ]
    },
    {
      "cell_type": "code",
      "execution_count": null,
      "metadata": {
        "id": "j0-MqBF_fSqz"
      },
      "outputs": [],
      "source": []
    }
  ],
  "metadata": {
    "colab": {
      "provenance": [],
      "authorship_tag": "ABX9TyM1fnyNIsw0FRgB9aXfiyci",
      "include_colab_link": true
    },
    "kernelspec": {
      "display_name": "Python 3",
      "name": "python3"
    },
    "language_info": {
      "name": "python"
    }
  },
  "nbformat": 4,
  "nbformat_minor": 0
}